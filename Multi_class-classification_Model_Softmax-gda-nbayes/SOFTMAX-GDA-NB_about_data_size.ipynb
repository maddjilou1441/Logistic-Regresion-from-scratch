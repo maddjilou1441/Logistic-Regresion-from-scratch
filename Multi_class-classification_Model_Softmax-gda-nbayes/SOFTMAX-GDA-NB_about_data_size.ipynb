{
 "cells": [
  {
   "cell_type": "code",
   "execution_count": 160,
   "metadata": {},
   "outputs": [],
   "source": [
    "from sklearn.feature_extraction.text import TfidfVectorizer, CountVectorizer\n",
    "from sklearn.model_selection import train_test_split\n",
    "import numpy as np\n",
    "import numpy.random as rn\n",
    "import pandas as pd\n",
    "from scipy.stats import multivariate_normal\n",
    "import re\n",
    "import scipy.sparse\n",
    "from collections import defaultdict\n",
    "import operator\n",
    "\n",
    "\n",
    "import matplotlib.pyplot as plt\n",
    "%matplotlib inline"
   ]
  },
  {
   "cell_type": "markdown",
   "metadata": {},
   "source": [
    "## Gaussian Discriminant Analysis"
   ]
  },
  {
   "cell_type": "code",
   "execution_count": 161,
   "metadata": {},
   "outputs": [],
   "source": [
    "class GDA():\n",
    "    \"\"\" Implementation of Gaussian Discriminant Analysis for multiclass\"\"\"\n",
    "    \n",
    "    def __init__(self, x, y):\n",
    "        self.x = x.values\n",
    "        self.y = y.values\n",
    "        self.__labels = np.unique(y)\n",
    "        self.__phi = np.zeros((len(np.unique(y)), 1))\n",
    "        self.__mu = np.zeros((len(np.unique(y)), x.shape[1]))\n",
    "        self.__sigma = 0\n",
    "        \n",
    "    def get_mu(self):\n",
    "        for i in range(len(self.__labels)):\n",
    "            indexes = np.flatnonzero(self.y == self.__labels[i])\n",
    "            self.__mu[i] = (self.x[indexes]).mean(axis=0)\n",
    "        return self.__mu\n",
    "    \n",
    "    def get_sigma(self):\n",
    "        n = len(self.y)\n",
    "\n",
    "        for i in range(len(self.x)):\n",
    "            if self.y[i] == 0:\n",
    "                diff = self.x[i].reshape(-1,1) - self.__mu[0].reshape(-1,1)\n",
    "                self.__sigma += np.dot(diff, diff.T)\n",
    "            elif self.y[i] == 1:\n",
    "                diff = self.x[i].reshape(-1,1) - self.__mu[1].reshape(-1,1)\n",
    "                self.__sigma += np.dot(diff, diff.T)\n",
    "            elif self.y[i] == 2:\n",
    "                diff = self.x[i].reshape(-1,1) - self.__mu[2].reshape(-1,1)\n",
    "                self.__sigma += np.dot(diff, diff.T)\n",
    "            elif self.y[i] == 3:\n",
    "                diff = self.x[i].reshape(-1,1) - self.__mu[3].reshape(-1,1)\n",
    "                self.__sigma += np.dot(diff, diff.T)\n",
    "            elif self.y[i] == 4:\n",
    "                diff = self.x[i].reshape(-1,1) - self.__mu[4].reshape(-1,1)\n",
    "                self.__sigma += np.dot(diff, diff.T)\n",
    "            elif self.y[i] == 5:\n",
    "                diff = self.x[i].reshape(-1,1) - self.__mu[5].reshape(-1,1)\n",
    "                self.__sigma += np.dot(diff, diff.T)\n",
    "            elif self.y[i] == 6:\n",
    "                diff = self.x[i].reshape(-1,1) - self.__mu[6].reshape(-1,1)\n",
    "                self.__sigma += np.dot(diff, diff.T)\n",
    "            elif self.y[i] == 7:\n",
    "                diff = self.x[i].reshape(-1,1) - self.__mu[7].reshape(-1,1)\n",
    "                self.__sigma += np.dot(diff, diff.T)\n",
    "            elif self.y[i] == 8:\n",
    "                diff = self.x[i].reshape(-1,1) - self.__mu[8].reshape(-1,1)\n",
    "                self.__sigma += np.dot(diff, diff.T)\n",
    "            else:\n",
    "                diff = self.x[i].reshape(-1,1) - self.__mu[9].reshape(-1,1)\n",
    "                self.__sigma += np.dot(diff, diff.T)\n",
    "                \n",
    "        return self.__sigma/n\n",
    "   \n",
    "    def get_phi(self):\n",
    "        labels = np.unique(self.y)\n",
    "        phi = np.zeros(len(labels))\n",
    "        for i,l in enumerate(labels):\n",
    "            phi[i] = (self.y == l).mean()\n",
    "        return phi\n",
    "    \n",
    "    def get_px(self, x, mu, sigma):\n",
    "        dim = len(mu)\n",
    "        c = (1./np.sqrt(abs((2*np.pi)**(dim) * (np.linalg.det(sigma)))))\n",
    "        exp = np.dot((x.reshape(-1,1)- mu.reshape(-1,1)).T,np.dot(np.linalg.inv(sigma),(x.reshape(-1,1)- mu.reshape(-1,1))))\n",
    "        return c * np.exp(-0.5 * exp)\n",
    "    \n",
    "    def predict(self,x, mu, sigma, phi):\n",
    "        x = x.values\n",
    "        y_hat = np.zeros(len(x))\n",
    "        for i in range(len(x)):\n",
    "            prob = []\n",
    "            for c in range(len(phi)):\n",
    "                r = self.get_px(x[i], mu[c], sigma) * phi[c]\n",
    "                prob.append(r)\n",
    "            y_hat[i] = np.argmax(prob)\n",
    "            \n",
    "        return y_hat\n",
    "    \n",
    "    def accuracy(self, y_hat, y_test):\n",
    "        return (y_test == y_hat).mean() * 100\n",
    "    "
   ]
  },
  {
   "cell_type": "markdown",
   "metadata": {},
   "source": [
    "## Softmax Regression"
   ]
  },
  {
   "cell_type": "code",
   "execution_count": 162,
   "metadata": {},
   "outputs": [],
   "source": [
    "class SoftMax():\n",
    "    \n",
    "    def __init__(self, X, y):\n",
    "        self.X = X.values\n",
    "        self.y = y.values\n",
    "#         self.alpha = alpha\n",
    "#         self.n_iter = n_iter\n",
    "        self.theta = np.zeros((X.shape[1], len(np.unique(y))))\n",
    "        \n",
    "    def oneHotIt(self, Y):\n",
    "        m = Y.shape[0]\n",
    "        OHX = scipy.sparse.csr_matrix((np.ones(m), (Y, np.array(range(m)))))\n",
    "        OHX = np.array(OHX.todense()).T\n",
    "        return OHX\n",
    "    \n",
    "    def hypothesis(self, x):\n",
    "        z = np.exp(np.dot(x, self.theta))\n",
    "        return z/z.sum(axis=1, keepdims=True)\n",
    "\n",
    "\n",
    "    def cost_function(self):\n",
    "        p = self.hypothesis(self.X)\n",
    "        cost = 0\n",
    "        for i in range(self.X.shape[0]):\n",
    "            for k in range(len(np.unique(self.y))):\n",
    "                if self.y[i] == k:\n",
    "                    cost += np.log(p[i, k])\n",
    "        return - (1/self.X.shape[0]) * cost\n",
    "\n",
    "    def compute_grad(self):\n",
    "        p = self.hypothesis(self.X)\n",
    "        return (1/self.X.shape[0]) * np.dot(self.X.T, (p - self.oneHotIt(self.y)))\n",
    "#         grad = np.zeros((len(np.unique(self.y)), self.X.shape[1]))\n",
    "#         for c in range(len(np.unique(self.y))):\n",
    "#             d = 0\n",
    "#             for i in range(self.X.shape[0]):\n",
    "#                 r = (1 if self.y == c else 0) - p[i,c]\n",
    "#                 d += self.X[i] * r\n",
    "#             grad[c] = d\n",
    "#         return grad/self.X.shape[0]\n",
    "            \n",
    "    \n",
    "    def fit_softmax(self, eta, n_inter):\n",
    "        losses = np.zeros(n_iter)\n",
    "        for i in range(n_iter):\n",
    "            loss = self.cost_function()\n",
    "            losses[i] = loss\n",
    "            self.theta = self.theta - eta * self.compute_grad()\n",
    "        return self.theta, loss, losses\n",
    "    \n",
    "    def predict(self, x):\n",
    "        pred = self.hypothesis(x)\n",
    "        return np.argmax(pred, axis=1)\n",
    "    \n",
    "    def accuracy(self, y_true, y_hat):\n",
    "        return (y_true == y_hat).mean() * 100"
   ]
  },
  {
   "cell_type": "markdown",
   "metadata": {},
   "source": [
    "## Naive Bayes"
   ]
  },
  {
   "cell_type": "code",
   "execution_count": 163,
   "metadata": {},
   "outputs": [],
   "source": [
    "class NaiveBayes(object):\n",
    "    def __init__(self, n_gram=1, printing=False):\n",
    "        self.prior = defaultdict(int)\n",
    "        self.logprior = {}\n",
    "        self.bigdoc = defaultdict(list)\n",
    "        self.loglikelihoods = defaultdict(defaultdict)\n",
    "        self.V = []\n",
    "        self.n = n_gram\n",
    "\n",
    "    def compute_prior_and_bigdoc(self, training_set, training_labels):\n",
    "        \n",
    "        for x, y in zip(training_set, training_labels):\n",
    "            all_words = x.split(\" \")\n",
    "            if self.n == 1:\n",
    "                grams = all_words\n",
    "            else:\n",
    "                grams = self.words_to_grams(all_words)\n",
    "\n",
    "            self.prior[y] += len(grams)\n",
    "            self.bigdoc[y].append(x)\n",
    "\n",
    "    def compute_vocabulary(self, documents):\n",
    "        vocabulary = set()\n",
    "\n",
    "        for doc in documents:\n",
    "            for word in doc.split(\" \"):\n",
    "                vocabulary.add(word.lower())\n",
    "\n",
    "        return vocabulary\n",
    "\n",
    "    def count_word_in_classes(self):\n",
    "        counts = {}\n",
    "        for c in list(self.bigdoc.keys()):\n",
    "            docs = self.bigdoc[c]\n",
    "            counts[c] = defaultdict(int)\n",
    "            for doc in docs:\n",
    "                words = doc.split(\" \")\n",
    "                for word in words:\n",
    "                    counts[c][word] += 1\n",
    "\n",
    "        return counts\n",
    "\n",
    "    def train(self, training_set, training_labels, alpha=1):\n",
    "        # Get number of documents\n",
    "        N_doc = len(training_set)\n",
    "\n",
    "        # Get vocabulary used in training set\n",
    "        self.V = self.compute_vocabulary(training_set)\n",
    "\n",
    "        # Create bigdoc\n",
    "        for x, y in zip(training_set, training_labels):\n",
    "            self.bigdoc[y].append(x)\n",
    "\n",
    "        # Get set of all classes\n",
    "        all_classes = set(training_labels)\n",
    "\n",
    "        # Compute a dictionary with all word counts for each class\n",
    "        self.word_count = self.count_word_in_classes()\n",
    "\n",
    "        # For each class\n",
    "        for c in all_classes:\n",
    "            # Get number of documents for that class\n",
    "            N_c = float(sum(training_labels == c))\n",
    "\n",
    "            # Compute logprior for class\n",
    "            self.logprior[c] = np.log(N_c / N_doc)\n",
    "\n",
    "            # Calculate the sum of counts of words in current class\n",
    "            total_count = 0\n",
    "            for word in self.V:\n",
    "                total_count += self.word_count[c][word]\n",
    "\n",
    "            # For every word, get the count and compute the log-likelihood for this class\n",
    "            for word in self.V:\n",
    "                count = self.word_count[c][word]\n",
    "                self.loglikelihoods[c][word] = np.log((count + alpha) / (total_count + alpha * len(self.V)))\n",
    "    \n",
    "    def maxDict(self, dic):\n",
    "        return max(dic.items(), key=operator.itemgetter(1))[0]\n",
    "\n",
    "    \n",
    "    \n",
    "    def predict(self, test_doc):\n",
    "        sums = { 0: 0, 1: 0, 2: 0, 3: 0, 4: 0, 5: 0, 6: 0, 7: 0, 8: 0, 9: 0}\n",
    "        for c in self.bigdoc.keys():\n",
    "            sums[c] = self.logprior[c]\n",
    "            words = test_doc.split(\" \")\n",
    "            for word in words:\n",
    "                if word in self.V:\n",
    "                    sums[c] += self.loglikelihoods[c][word]\n",
    "        return sums\n",
    "    def get_prediction(self, d_test):\n",
    "        predictions = []\n",
    "        for example in d_test:\n",
    "            result = self.predict(example)\n",
    "            predictions.append(self.maxDict(result))\n",
    "        return predictions\n",
    "    \n",
    "    def accuracy(self, y_test, yhat):\n",
    "        return (y_test == yhat).mean() * 100"
   ]
  },
  {
   "cell_type": "code",
   "execution_count": 164,
   "metadata": {},
   "outputs": [],
   "source": [
    "def split(x, y, n):\n",
    "    return train_test_split(x.iloc[:n], y.iloc[:n], test_size=0.3)#, shuffle=True, random_state=42, stratify=y.iloc[:n])"
   ]
  },
  {
   "cell_type": "markdown",
   "metadata": {},
   "source": [
    "## Exploration Data Analysis"
   ]
  },
  {
   "cell_type": "code",
   "execution_count": 165,
   "metadata": {},
   "outputs": [],
   "source": [
    "# Load data set\n",
    "data = pd.read_csv('DrugData.csv')"
   ]
  },
  {
   "cell_type": "code",
   "execution_count": 166,
   "metadata": {},
   "outputs": [],
   "source": [
    "data = data.drop('Unnamed: 0', axis=1)"
   ]
  },
  {
   "cell_type": "code",
   "execution_count": 167,
   "metadata": {},
   "outputs": [],
   "source": [
    "data.dropna(inplace=True)"
   ]
  },
  {
   "cell_type": "code",
   "execution_count": 168,
   "metadata": {},
   "outputs": [],
   "source": [
    "data.rating = data.rating.map({1:0, 2:1, 3:2, 4:3, 5:4, 6:5, 7:6, 8:7, 9:8, 10:9})"
   ]
  },
  {
   "cell_type": "code",
   "execution_count": 169,
   "metadata": {},
   "outputs": [
    {
     "data": {
      "text/html": [
       "<div>\n",
       "<style scoped>\n",
       "    .dataframe tbody tr th:only-of-type {\n",
       "        vertical-align: middle;\n",
       "    }\n",
       "\n",
       "    .dataframe tbody tr th {\n",
       "        vertical-align: top;\n",
       "    }\n",
       "\n",
       "    .dataframe thead th {\n",
       "        text-align: right;\n",
       "    }\n",
       "</style>\n",
       "<table border=\"1\" class=\"dataframe\">\n",
       "  <thead>\n",
       "    <tr style=\"text-align: right;\">\n",
       "      <th></th>\n",
       "      <th>urlDrugName</th>\n",
       "      <th>rating</th>\n",
       "      <th>effectiveness</th>\n",
       "      <th>sideEffects</th>\n",
       "      <th>condition</th>\n",
       "      <th>benefitsReview</th>\n",
       "      <th>sideEffectsReview</th>\n",
       "      <th>commentsReview</th>\n",
       "      <th>sentiment</th>\n",
       "    </tr>\n",
       "  </thead>\n",
       "  <tbody>\n",
       "    <tr>\n",
       "      <th>0</th>\n",
       "      <td>enalapril</td>\n",
       "      <td>3</td>\n",
       "      <td>Highly Effective</td>\n",
       "      <td>Mild Side Effects</td>\n",
       "      <td>management of congestive heart failure</td>\n",
       "      <td>slowed the progression of left ventricular dys...</td>\n",
       "      <td>cough, hypotension , proteinuria, impotence , ...</td>\n",
       "      <td>monitor blood pressure , weight and asses for ...</td>\n",
       "      <td>0</td>\n",
       "    </tr>\n",
       "    <tr>\n",
       "      <th>1</th>\n",
       "      <td>ortho-tri-cyclen</td>\n",
       "      <td>0</td>\n",
       "      <td>Highly Effective</td>\n",
       "      <td>Severe Side Effects</td>\n",
       "      <td>birth prevention</td>\n",
       "      <td>although this type of birth control has more c...</td>\n",
       "      <td>Heavy Cycle, Cramps, Hot Flashes, Fatigue, Lon...</td>\n",
       "      <td>I Hate This Birth Control, I Would Not Suggest...</td>\n",
       "      <td>0</td>\n",
       "    </tr>\n",
       "    <tr>\n",
       "      <th>2</th>\n",
       "      <td>ponstel</td>\n",
       "      <td>9</td>\n",
       "      <td>Highly Effective</td>\n",
       "      <td>No Side Effects</td>\n",
       "      <td>menstrual cramps</td>\n",
       "      <td>i was used to having cramps so badly that they...</td>\n",
       "      <td>Heavier bleeding and clotting than normal.</td>\n",
       "      <td>I took 2 pills at the onset of my menstrual cr...</td>\n",
       "      <td>1</td>\n",
       "    </tr>\n",
       "    <tr>\n",
       "      <th>3</th>\n",
       "      <td>prilosec</td>\n",
       "      <td>2</td>\n",
       "      <td>Marginally Effective</td>\n",
       "      <td>Mild Side Effects</td>\n",
       "      <td>acid reflux</td>\n",
       "      <td>the acid reflux went away for a few months aft...</td>\n",
       "      <td>Constipation, dry mouth and some mild dizzines...</td>\n",
       "      <td>I was given Prilosec prescription at a dose of...</td>\n",
       "      <td>0</td>\n",
       "    </tr>\n",
       "    <tr>\n",
       "      <th>4</th>\n",
       "      <td>lyrica</td>\n",
       "      <td>1</td>\n",
       "      <td>Marginally Effective</td>\n",
       "      <td>Severe Side Effects</td>\n",
       "      <td>fibromyalgia</td>\n",
       "      <td>i think that the lyrica was starting to help w...</td>\n",
       "      <td>I felt extremely drugged and dopey.  Could not...</td>\n",
       "      <td>See above</td>\n",
       "      <td>0</td>\n",
       "    </tr>\n",
       "  </tbody>\n",
       "</table>\n",
       "</div>"
      ],
      "text/plain": [
       "        urlDrugName  rating         effectiveness          sideEffects  \\\n",
       "0         enalapril       3      Highly Effective    Mild Side Effects   \n",
       "1  ortho-tri-cyclen       0      Highly Effective  Severe Side Effects   \n",
       "2           ponstel       9      Highly Effective      No Side Effects   \n",
       "3          prilosec       2  Marginally Effective    Mild Side Effects   \n",
       "4            lyrica       1  Marginally Effective  Severe Side Effects   \n",
       "\n",
       "                                condition  \\\n",
       "0  management of congestive heart failure   \n",
       "1                        birth prevention   \n",
       "2                        menstrual cramps   \n",
       "3                             acid reflux   \n",
       "4                            fibromyalgia   \n",
       "\n",
       "                                      benefitsReview  \\\n",
       "0  slowed the progression of left ventricular dys...   \n",
       "1  although this type of birth control has more c...   \n",
       "2  i was used to having cramps so badly that they...   \n",
       "3  the acid reflux went away for a few months aft...   \n",
       "4  i think that the lyrica was starting to help w...   \n",
       "\n",
       "                                   sideEffectsReview  \\\n",
       "0  cough, hypotension , proteinuria, impotence , ...   \n",
       "1  Heavy Cycle, Cramps, Hot Flashes, Fatigue, Lon...   \n",
       "2         Heavier bleeding and clotting than normal.   \n",
       "3  Constipation, dry mouth and some mild dizzines...   \n",
       "4  I felt extremely drugged and dopey.  Could not...   \n",
       "\n",
       "                                      commentsReview  sentiment  \n",
       "0  monitor blood pressure , weight and asses for ...          0  \n",
       "1  I Hate This Birth Control, I Would Not Suggest...          0  \n",
       "2  I took 2 pills at the onset of my menstrual cr...          1  \n",
       "3  I was given Prilosec prescription at a dose of...          0  \n",
       "4                                          See above          0  "
      ]
     },
     "execution_count": 169,
     "metadata": {},
     "output_type": "execute_result"
    }
   ],
   "source": [
    "# Visualization of top first five rows\n",
    "data.head()"
   ]
  },
  {
   "cell_type": "code",
   "execution_count": null,
   "metadata": {},
   "outputs": [],
   "source": []
  },
  {
   "cell_type": "code",
   "execution_count": 170,
   "metadata": {},
   "outputs": [
    {
     "data": {
      "text/plain": [
       "Text(0.5, 1.0, 'Top20 : The number of drugs per condition.')"
      ]
     },
     "execution_count": 170,
     "metadata": {},
     "output_type": "execute_result"
    },
    {
     "data": {
      "image/png": "[encoded data removed]",
      "text/plain": [
       "<Figure size 1008x432 with 1 Axes>"
      ]
     },
     "metadata": {
      "needs_background": "light"
     },
     "output_type": "display_data"
    }
   ],
   "source": [
    "condition_dn = data.groupby(['condition'])['urlDrugName'].nunique().sort_values(ascending=False)\n",
    "condition_dn[0:20].plot(kind=\"bar\", figsize = (14,6), fontsize = 10,color=\"blue\")\n",
    "plt.xlabel(\"\", fontsize = 20)\n",
    "plt.ylabel(\"\", fontsize = 20)\n",
    "plt.title(\"Top20 : The number of drugs per condition.\", fontsize = 20)"
   ]
  },
  {
   "cell_type": "code",
   "execution_count": 171,
   "metadata": {},
   "outputs": [
    {
     "data": {
      "text/plain": [
       "Text(0.5, 1.0, 'Count of rating values')"
      ]
     },
     "execution_count": 171,
     "metadata": {},
     "output_type": "execute_result"
    },
    {
     "data": {
      "image/png": "[encoded data removed]",
      "text/plain": [
       "<Figure size 1008x432 with 1 Axes>"
      ]
     },
     "metadata": {
      "needs_background": "light"
     },
     "output_type": "display_data"
    }
   ],
   "source": [
    "rating = data.rating.value_counts().sort_values(ascending=False)\n",
    "rating.plot(kind=\"bar\", figsize = (14,6), fontsize = 10, color=\"blue\")\n",
    "plt.xlabel(\"\", fontsize = 20)\n",
    "plt.ylabel(\"\", fontsize = 20)\n",
    "plt.title(\"Count of rating values\", fontsize = 20)"
   ]
  },
  {
   "cell_type": "markdown",
   "metadata": {},
   "source": [
    "Most people choose four values: 9, 7, 8, 6,0, and the number of 9 is the most choose than the others. We can see that the percentage of positives is higher than negative, and people's reactions are extreme."
   ]
  },
  {
   "cell_type": "markdown",
   "metadata": {},
   "source": [
    "Text Preprocessing"
   ]
  },
  {
   "cell_type": "code",
   "execution_count": 172,
   "metadata": {},
   "outputs": [
    {
     "name": "stdout",
     "output_type": "stream",
     "text": [
      "Requirement already satisfied: nltk in /home/aimsgh/.local/lib/python3.7/site-packages (3.4.5)\r\n",
      "Requirement already satisfied: six in /usr/lib/python3/dist-packages (from nltk) (1.12.0)\r\n"
     ]
    }
   ],
   "source": [
    "!pip3 install nltk"
   ]
  },
  {
   "cell_type": "code",
   "execution_count": 173,
   "metadata": {},
   "outputs": [],
   "source": [
    "from bs4 import BeautifulSoup\n",
    "import nltk\n",
    "from nltk.corpus import stopwords\n",
    "from nltk.stem.snowball import SnowballStemmer"
   ]
  },
  {
   "cell_type": "code",
   "execution_count": null,
   "metadata": {},
   "outputs": [],
   "source": []
  },
  {
   "cell_type": "code",
   "execution_count": 174,
   "metadata": {},
   "outputs": [
    {
     "name": "stderr",
     "output_type": "stream",
     "text": [
      "[nltk_data] Downloading package stopwords to /home/aimsgh/nltk_data...\n",
      "[nltk_data]   Package stopwords is already up-to-date!\n"
     ]
    },
    {
     "data": {
      "text/plain": [
       "True"
      ]
     },
     "execution_count": 174,
     "metadata": {},
     "output_type": "execute_result"
    }
   ],
   "source": [
    "nltk.download(\"stopwords\")"
   ]
  },
  {
   "cell_type": "code",
   "execution_count": 175,
   "metadata": {},
   "outputs": [],
   "source": [
    "stops = set(stopwords.words('english'))"
   ]
  },
  {
   "cell_type": "code",
   "execution_count": 176,
   "metadata": {},
   "outputs": [],
   "source": [
    "stemmer = SnowballStemmer('english')"
   ]
  },
  {
   "cell_type": "code",
   "execution_count": 177,
   "metadata": {},
   "outputs": [],
   "source": [
    "def review_to_words(raw_review):\n",
    "    # 1. Delete HTML \n",
    "    review_text = BeautifulSoup(raw_review, 'html.parser').get_text()\n",
    "    # 2. Make a space\n",
    "    letters_only = re.sub('[^a-zA-Z]', ' ', review_text)\n",
    "    # 3. lower letters\n",
    "    words = letters_only.lower().split()\n",
    "    # 5. Stopwords \n",
    "    meaningful_words = [w for w in words if not w in stops]\n",
    "    # 6. Stemming\n",
    "    stemming_words = [stemmer.stem(w) for w in meaningful_words]\n",
    "    # 7. space join words\n",
    "    return( ' '.join(stemming_words))"
   ]
  },
  {
   "cell_type": "code",
   "execution_count": 178,
   "metadata": {},
   "outputs": [],
   "source": [
    "data['condition'] = data['condition'].apply(review_to_words)"
   ]
  },
  {
   "cell_type": "code",
   "execution_count": 179,
   "metadata": {},
   "outputs": [
    {
     "name": "stdout",
     "output_type": "stream",
     "text": [
      "CPU times: user 976 ms, sys: 20 ms, total: 996 ms\n",
      "Wall time: 953 ms\n",
      "CPU times: user 884 ms, sys: 16 ms, total: 900 ms\n",
      "Wall time: 894 ms\n"
     ]
    }
   ],
   "source": [
    "%time data.benefitsReview = data.benefitsReview.apply(review_to_words)\n",
    "%time data.sideEffectsReview = data.sideEffectsReview.apply(review_to_words)"
   ]
  },
  {
   "cell_type": "code",
   "execution_count": 180,
   "metadata": {},
   "outputs": [
    {
     "name": "stderr",
     "output_type": "stream",
     "text": [
      "/usr/lib/python3/dist-packages/bs4/__init__.py:272: UserWarning: \"b'.'\" looks like a filename, not markup. You should probably open this file and pass the filehandle into Beautiful Soup.\n",
      "  ' Beautiful Soup.' % markup)\n",
      "/usr/lib/python3/dist-packages/bs4/__init__.py:272: UserWarning: \"b'..'\" looks like a filename, not markup. You should probably open this file and pass the filehandle into Beautiful Soup.\n",
      "  ' Beautiful Soup.' % markup)\n"
     ]
    },
    {
     "name": "stdout",
     "output_type": "stream",
     "text": [
      "CPU times: user 1.25 s, sys: 20 ms, total: 1.27 s\n",
      "Wall time: 1.24 s\n"
     ]
    }
   ],
   "source": [
    "%time data.commentsReview = data.commentsReview.apply(review_to_words)"
   ]
  },
  {
   "cell_type": "code",
   "execution_count": 181,
   "metadata": {},
   "outputs": [
    {
     "name": "stdout",
     "output_type": "stream",
     "text": [
      "CPU times: user 219 ms, sys: 0 ns, total: 219 ms\n",
      "Wall time: 218 ms\n"
     ]
    }
   ],
   "source": [
    "%time data.urlDrugName = data.urlDrugName.apply(review_to_words)"
   ]
  },
  {
   "cell_type": "code",
   "execution_count": 182,
   "metadata": {},
   "outputs": [
    {
     "data": {
      "text/html": [
       "<div>\n",
       "<style scoped>\n",
       "    .dataframe tbody tr th:only-of-type {\n",
       "        vertical-align: middle;\n",
       "    }\n",
       "\n",
       "    .dataframe tbody tr th {\n",
       "        vertical-align: top;\n",
       "    }\n",
       "\n",
       "    .dataframe thead th {\n",
       "        text-align: right;\n",
       "    }\n",
       "</style>\n",
       "<table border=\"1\" class=\"dataframe\">\n",
       "  <thead>\n",
       "    <tr style=\"text-align: right;\">\n",
       "      <th></th>\n",
       "      <th>urlDrugName</th>\n",
       "      <th>rating</th>\n",
       "      <th>effectiveness</th>\n",
       "      <th>sideEffects</th>\n",
       "      <th>condition</th>\n",
       "      <th>benefitsReview</th>\n",
       "      <th>sideEffectsReview</th>\n",
       "      <th>commentsReview</th>\n",
       "      <th>sentiment</th>\n",
       "    </tr>\n",
       "  </thead>\n",
       "  <tbody>\n",
       "    <tr>\n",
       "      <th>0</th>\n",
       "      <td>enalapril</td>\n",
       "      <td>3</td>\n",
       "      <td>Highly Effective</td>\n",
       "      <td>Mild Side Effects</td>\n",
       "      <td>manag congest heart failur</td>\n",
       "      <td>slow progress left ventricular dysfunct overt ...</td>\n",
       "      <td>cough hypotens proteinuria impot renal failur ...</td>\n",
       "      <td>monitor blood pressur weight ass resolut fluid</td>\n",
       "      <td>0</td>\n",
       "    </tr>\n",
       "    <tr>\n",
       "      <th>1</th>\n",
       "      <td>ortho tri cyclen</td>\n",
       "      <td>0</td>\n",
       "      <td>Highly Effective</td>\n",
       "      <td>Severe Side Effects</td>\n",
       "      <td>birth prevent</td>\n",
       "      <td>although type birth control con pros help cram...</td>\n",
       "      <td>heavi cycl cramp hot flash fatigu long last cy...</td>\n",
       "      <td>hate birth control would suggest anyon</td>\n",
       "      <td>0</td>\n",
       "    </tr>\n",
       "    <tr>\n",
       "      <th>2</th>\n",
       "      <td>ponstel</td>\n",
       "      <td>9</td>\n",
       "      <td>Highly Effective</td>\n",
       "      <td>No Side Effects</td>\n",
       "      <td>menstrual cramp</td>\n",
       "      <td>use cramp bad would leav ball bed least day po...</td>\n",
       "      <td>heavier bleed clot normal</td>\n",
       "      <td>took pill onset menstrual cramp everi hour too...</td>\n",
       "      <td>1</td>\n",
       "    </tr>\n",
       "    <tr>\n",
       "      <th>3</th>\n",
       "      <td>prilosec</td>\n",
       "      <td>2</td>\n",
       "      <td>Marginally Effective</td>\n",
       "      <td>Mild Side Effects</td>\n",
       "      <td>acid reflux</td>\n",
       "      <td>acid reflux went away month day drug heartburn...</td>\n",
       "      <td>constip dri mouth mild dizzi would go away med...</td>\n",
       "      <td>given prilosec prescript dose mg per day medic...</td>\n",
       "      <td>0</td>\n",
       "    </tr>\n",
       "    <tr>\n",
       "      <th>4</th>\n",
       "      <td>lyrica</td>\n",
       "      <td>1</td>\n",
       "      <td>Marginally Effective</td>\n",
       "      <td>Severe Side Effects</td>\n",
       "      <td>fibromyalgia</td>\n",
       "      <td>think lyrica start help pain sideeffect sever ...</td>\n",
       "      <td>felt extrem drug dopey could drive med also ex...</td>\n",
       "      <td>see</td>\n",
       "      <td>0</td>\n",
       "    </tr>\n",
       "  </tbody>\n",
       "</table>\n",
       "</div>"
      ],
      "text/plain": [
       "        urlDrugName  rating         effectiveness          sideEffects  \\\n",
       "0         enalapril       3      Highly Effective    Mild Side Effects   \n",
       "1  ortho tri cyclen       0      Highly Effective  Severe Side Effects   \n",
       "2           ponstel       9      Highly Effective      No Side Effects   \n",
       "3          prilosec       2  Marginally Effective    Mild Side Effects   \n",
       "4            lyrica       1  Marginally Effective  Severe Side Effects   \n",
       "\n",
       "                    condition  \\\n",
       "0  manag congest heart failur   \n",
       "1               birth prevent   \n",
       "2             menstrual cramp   \n",
       "3                 acid reflux   \n",
       "4                fibromyalgia   \n",
       "\n",
       "                                      benefitsReview  \\\n",
       "0  slow progress left ventricular dysfunct overt ...   \n",
       "1  although type birth control con pros help cram...   \n",
       "2  use cramp bad would leav ball bed least day po...   \n",
       "3  acid reflux went away month day drug heartburn...   \n",
       "4  think lyrica start help pain sideeffect sever ...   \n",
       "\n",
       "                                   sideEffectsReview  \\\n",
       "0  cough hypotens proteinuria impot renal failur ...   \n",
       "1  heavi cycl cramp hot flash fatigu long last cy...   \n",
       "2                          heavier bleed clot normal   \n",
       "3  constip dri mouth mild dizzi would go away med...   \n",
       "4  felt extrem drug dopey could drive med also ex...   \n",
       "\n",
       "                                      commentsReview  sentiment  \n",
       "0     monitor blood pressur weight ass resolut fluid          0  \n",
       "1             hate birth control would suggest anyon          0  \n",
       "2  took pill onset menstrual cramp everi hour too...          1  \n",
       "3  given prilosec prescript dose mg per day medic...          0  \n",
       "4                                                see          0  "
      ]
     },
     "execution_count": 182,
     "metadata": {},
     "output_type": "execute_result"
    }
   ],
   "source": [
    "data.head()"
   ]
  },
  {
   "cell_type": "code",
   "execution_count": 183,
   "metadata": {},
   "outputs": [],
   "source": [
    "# droping targe variable\n",
    "X = data.drop(['rating', 'sentiment'], axis=1)\n",
    "y = data.rating"
   ]
  },
  {
   "cell_type": "code",
   "execution_count": 184,
   "metadata": {},
   "outputs": [],
   "source": [
    "dd1 = X.effectiveness+' '+X.sideEffects +' '+X.benefitsReview +' '+X.condition #+ ' '+X.commentsReview"
   ]
  },
  {
   "cell_type": "code",
   "execution_count": 185,
   "metadata": {},
   "outputs": [],
   "source": [
    "#count_vector = CountVectorizer(binary=True, stop_words='english')\n",
    "vectorizer = CountVectorizer(min_df=0.1, max_df=.8, stop_words='english')\n",
    "train_v = vectorizer.fit_transform(dd1)"
   ]
  },
  {
   "cell_type": "code",
   "execution_count": 186,
   "metadata": {},
   "outputs": [],
   "source": [
    "train_vec = pd.DataFrame(train_v.toarray(), columns=vectorizer.get_feature_names())"
   ]
  },
  {
   "cell_type": "code",
   "execution_count": 187,
   "metadata": {},
   "outputs": [],
   "source": [
    "eta= 0.01 # learning rate\n",
    "n_iter = 1000"
   ]
  },
  {
   "cell_type": "markdown",
   "metadata": {},
   "source": [
    "# Comparison of the three algorithms"
   ]
  },
  {
   "cell_type": "markdown",
   "metadata": {},
   "source": [
    "I have implemented a multiclass model for each algorithm. My target variable is rating column. It contains 10 different classes."
   ]
  },
  {
   "cell_type": "markdown",
   "metadata": {},
   "source": [
    "# Test on 10 percent of the data"
   ]
  },
  {
   "cell_type": "code",
   "execution_count": 188,
   "metadata": {},
   "outputs": [],
   "source": [
    "n10 = int(len(train_vec) * 10/100)\n",
    "x_train, x_test, y_train, y_test = split(train_vec, y, n10)\n",
    "\n",
    "x_1, x_2, y_1, y_2 = split(dd1, y, n10)"
   ]
  },
  {
   "cell_type": "markdown",
   "metadata": {},
   "source": [
    "### Gaussian Discriminant Analysis (GDA)"
   ]
  },
  {
   "cell_type": "code",
   "execution_count": 189,
   "metadata": {},
   "outputs": [],
   "source": [
    "gda = GDA(x_train, y_train)"
   ]
  },
  {
   "cell_type": "code",
   "execution_count": 190,
   "metadata": {},
   "outputs": [],
   "source": [
    "mu = gda.get_mu()\n",
    "sigma = gda.get_sigma()\n",
    "\n",
    "phi = gda.get_phi()\n",
    "#sigm = sigma + np.eye(sigma.shape[1])*0.1\n",
    "pred_gda = gda.predict(x_test, mu, sigma, phi)"
   ]
  },
  {
   "cell_type": "code",
   "execution_count": 191,
   "metadata": {},
   "outputs": [],
   "source": [
    "gda_acc_10 = gda.accuracy(pred_gda, y_test)"
   ]
  },
  {
   "cell_type": "code",
   "execution_count": 192,
   "metadata": {},
   "outputs": [
    {
     "data": {
      "text/plain": [
       "45.96774193548387"
      ]
     },
     "execution_count": 192,
     "metadata": {},
     "output_type": "execute_result"
    }
   ],
   "source": [
    "gda_acc_10"
   ]
  },
  {
   "cell_type": "markdown",
   "metadata": {},
   "source": [
    "### Naive Bayes"
   ]
  },
  {
   "cell_type": "code",
   "execution_count": 193,
   "metadata": {},
   "outputs": [],
   "source": [
    "nb = NaiveBayes()"
   ]
  },
  {
   "cell_type": "code",
   "execution_count": 194,
   "metadata": {},
   "outputs": [],
   "source": [
    "nb.train(x_1, y_1)\n",
    "pred_nb = nb.get_prediction(x_2)\n",
    "nb_acc_10 = nb.accuracy(y_2, pred_nb)"
   ]
  },
  {
   "cell_type": "code",
   "execution_count": 195,
   "metadata": {},
   "outputs": [
    {
     "data": {
      "text/plain": [
       "24.193548387096776"
      ]
     },
     "execution_count": 195,
     "metadata": {},
     "output_type": "execute_result"
    }
   ],
   "source": [
    "nb_acc_10"
   ]
  },
  {
   "cell_type": "markdown",
   "metadata": {},
   "source": [
    "### Softmax Regression"
   ]
  },
  {
   "cell_type": "code",
   "execution_count": 196,
   "metadata": {},
   "outputs": [],
   "source": [
    "softmax = SoftMax(x_train, y_train)"
   ]
  },
  {
   "cell_type": "code",
   "execution_count": 197,
   "metadata": {},
   "outputs": [],
   "source": [
    "# Fitting softmax model\n",
    "result = softmax.fit_softmax(eta, n_iter)"
   ]
  },
  {
   "cell_type": "code",
   "execution_count": 198,
   "metadata": {},
   "outputs": [],
   "source": [
    "# Predictions\n",
    "predictions = softmax.predict(x_test)\n",
    "\n",
    "# Prediction Accuracy\n",
    "soft_acc_10 = softmax.accuracy(y_test.values, predictions)"
   ]
  },
  {
   "cell_type": "code",
   "execution_count": 199,
   "metadata": {},
   "outputs": [
    {
     "data": {
      "text/plain": [
       "34.67741935483871"
      ]
     },
     "execution_count": 199,
     "metadata": {},
     "output_type": "execute_result"
    }
   ],
   "source": [
    "soft_acc_10"
   ]
  },
  {
   "cell_type": "markdown",
   "metadata": {},
   "source": [
    "For our first chunck of the data which represent 10% of it. The remark that we can do here is that:\n",
    "\n",
    "* Naive Bayes approach underperformed. Maybe it's suffered of problem of losing context of words and not preserving the order of the rating sentiment\n",
    "* Multiclass Logistic regression (Softmax) and GDA outperformed both. Maybe due to details such as countvectorizer/(TF-IDF) correctly weighing the indicative words.\n",
    "\n",
    "Pictorically as in the figure below \n",
    "    - "
   ]
  },
  {
   "cell_type": "code",
   "execution_count": 200,
   "metadata": {},
   "outputs": [],
   "source": [
    "accuracies_10 = [gda_acc_10, nb_acc_10, soft_acc_10]\n",
    "models = ['GDA', 'Naive Bayes', 'Softmax']"
   ]
  },
  {
   "cell_type": "code",
   "execution_count": 201,
   "metadata": {},
   "outputs": [
    {
     "data": {
      "image/png": "[encoded data removed]",
      "text/plain": [
       "<Figure size 432x288 with 1 Axes>"
      ]
     },
     "metadata": {
      "needs_background": "light"
     },
     "output_type": "display_data"
    }
   ],
   "source": [
    "fig = plt.figure()\n",
    "ax = fig.add_axes([0,0,1,1])\n",
    "ax.bar(models, accuracies_10, color = 'green')\n",
    "plt.ylabel('Accuracy')\n",
    "plt.xlabel('Models')\n",
    "plt.title('Models Performance  10% of the data')\n",
    "plt.show()"
   ]
  },
  {
   "cell_type": "markdown",
   "metadata": {},
   "source": [
    "# Test on 30 percent of the data"
   ]
  },
  {
   "cell_type": "code",
   "execution_count": 202,
   "metadata": {},
   "outputs": [],
   "source": [
    "n30 = int(len(train_vec) * 30/100)\n",
    "x_train_30, x_test_30, y_train_30, y_test_30 = split(train_vec, y, n30)\n",
    "\n",
    "x_10, x_20, y_10, y_20 = split(dd1, y, n30)"
   ]
  },
  {
   "cell_type": "markdown",
   "metadata": {},
   "source": [
    "### GDA"
   ]
  },
  {
   "cell_type": "code",
   "execution_count": 203,
   "metadata": {},
   "outputs": [],
   "source": [
    "gda = GDA(x_train_30, y_train_30)\n",
    "mu = gda.get_mu()\n",
    "mu = gda.get_mu()\n",
    "sigma = gda.get_sigma()\n",
    "phi = gda.get_phi()\n",
    "pred_gda = gda.predict(x_test_30, mu, sigma, phi)\n",
    "gda_acc_30 = gda.accuracy(pred_gda, y_test_30)"
   ]
  },
  {
   "cell_type": "code",
   "execution_count": 204,
   "metadata": {},
   "outputs": [
    {
     "data": {
      "text/plain": [
       "38.97849462365591"
      ]
     },
     "execution_count": 204,
     "metadata": {},
     "output_type": "execute_result"
    }
   ],
   "source": [
    "gda_acc_30"
   ]
  },
  {
   "cell_type": "markdown",
   "metadata": {},
   "source": [
    "### Naive Bayes"
   ]
  },
  {
   "cell_type": "code",
   "execution_count": 205,
   "metadata": {},
   "outputs": [],
   "source": [
    "nb.train(x_10, y_10)\n",
    "pred_nb_30 = nb.get_prediction(x_20)\n",
    "nb_acc_30 = nb.accuracy(y_20, pred_nb_30)"
   ]
  },
  {
   "cell_type": "code",
   "execution_count": 206,
   "metadata": {},
   "outputs": [
    {
     "data": {
      "text/plain": [
       "34.13978494623656"
      ]
     },
     "execution_count": 206,
     "metadata": {},
     "output_type": "execute_result"
    }
   ],
   "source": [
    "nb_acc_30"
   ]
  },
  {
   "cell_type": "markdown",
   "metadata": {},
   "source": [
    "### Softmax Regression"
   ]
  },
  {
   "cell_type": "code",
   "execution_count": 207,
   "metadata": {},
   "outputs": [],
   "source": [
    "softmax = SoftMax(x_train_30, y_train_30)"
   ]
  },
  {
   "cell_type": "code",
   "execution_count": 208,
   "metadata": {},
   "outputs": [],
   "source": [
    "# Fitting softmax model\n",
    "result = softmax.fit_softmax(eta, n_iter)"
   ]
  },
  {
   "cell_type": "code",
   "execution_count": 209,
   "metadata": {},
   "outputs": [],
   "source": [
    "# Predictions\n",
    "predictions_30 = softmax.predict(x_test_30)\n",
    "\n",
    "# Prediction Accuracy\n",
    "soft_acc_30 = softmax.accuracy(y_test_30, predictions_30)"
   ]
  },
  {
   "cell_type": "code",
   "execution_count": 210,
   "metadata": {},
   "outputs": [
    {
     "data": {
      "text/plain": [
       "38.97849462365591"
      ]
     },
     "execution_count": 210,
     "metadata": {},
     "output_type": "execute_result"
    }
   ],
   "source": [
    "soft_acc_30"
   ]
  },
  {
   "cell_type": "markdown",
   "metadata": {},
   "source": [
    "## For the second chunck of the data which represent 30% of it:\n",
    "* The Naive Bayes approach outperformed the other models GDA and Softmax. The Softmax got an accuracy slightly higher than the GDA. This maybe because of the fact that Naive Bayes tends to perform well on small size of data set.\n",
    "\n",
    "Pictorically as in the figure below "
   ]
  },
  {
   "cell_type": "code",
   "execution_count": 211,
   "metadata": {},
   "outputs": [],
   "source": [
    "accuracies_30 = [gda_acc_30, nb_acc_30, soft_acc_30]"
   ]
  },
  {
   "cell_type": "code",
   "execution_count": 212,
   "metadata": {},
   "outputs": [
    {
     "data": {
      "image/png": "[encoded data removed]",
      "text/plain": [
       "<Figure size 432x288 with 1 Axes>"
      ]
     },
     "metadata": {
      "needs_background": "light"
     },
     "output_type": "display_data"
    }
   ],
   "source": [
    "fig = plt.figure()\n",
    "ax = fig.add_axes([0,0,1,1])\n",
    "ax.bar(models, accuracies_30, color = 'green')\n",
    "plt.ylabel('Accuracy')\n",
    "plt.xlabel('Models')\n",
    "plt.title('Models Performance on 30% of the data')\n",
    "plt.show()"
   ]
  },
  {
   "cell_type": "markdown",
   "metadata": {},
   "source": [
    "# Test on 60 percent of the data"
   ]
  },
  {
   "cell_type": "code",
   "execution_count": 213,
   "metadata": {},
   "outputs": [],
   "source": [
    "n60 = int(len(train_vec) * 60/100)\n",
    "x_train_60, x_test_60, y_train_60, y_test_60 = split(train_vec, y, n60)\n",
    "\n",
    "x_100, x_200, y_100, y_200 = split(dd1, y, n60)"
   ]
  },
  {
   "cell_type": "markdown",
   "metadata": {},
   "source": [
    "### GDA"
   ]
  },
  {
   "cell_type": "code",
   "execution_count": 214,
   "metadata": {},
   "outputs": [],
   "source": [
    "gda = GDA(x_train_60, y_train_60)\n",
    "mu = gda.get_mu()\n",
    "mu = gda.get_mu()\n",
    "sigma = gda.get_sigma()\n",
    "phi = gda.get_phi()\n",
    "pred_gda = gda.predict(x_test_60, mu, sigma, phi)\n",
    "gda_acc_60 = gda.accuracy(pred_gda, y_test_60)"
   ]
  },
  {
   "cell_type": "code",
   "execution_count": 215,
   "metadata": {},
   "outputs": [
    {
     "data": {
      "text/plain": [
       "42.06989247311828"
      ]
     },
     "execution_count": 215,
     "metadata": {},
     "output_type": "execute_result"
    }
   ],
   "source": [
    "gda_acc_60"
   ]
  },
  {
   "cell_type": "markdown",
   "metadata": {},
   "source": [
    "### Naive Bayes"
   ]
  },
  {
   "cell_type": "code",
   "execution_count": 216,
   "metadata": {},
   "outputs": [],
   "source": [
    "nb.train(x_100, y_100)\n",
    "pred_nb_60 = nb.get_prediction(x_200)\n",
    "nb_acc_60 = nb.accuracy(y_200, pred_nb_60)"
   ]
  },
  {
   "cell_type": "code",
   "execution_count": 217,
   "metadata": {},
   "outputs": [
    {
     "data": {
      "text/plain": [
       "34.946236559139784"
      ]
     },
     "execution_count": 217,
     "metadata": {},
     "output_type": "execute_result"
    }
   ],
   "source": [
    "nb_acc_60"
   ]
  },
  {
   "cell_type": "markdown",
   "metadata": {},
   "source": [
    "### Softmax Regression"
   ]
  },
  {
   "cell_type": "code",
   "execution_count": 218,
   "metadata": {},
   "outputs": [],
   "source": [
    "softmax = SoftMax(x_train_60, y_train_60)"
   ]
  },
  {
   "cell_type": "code",
   "execution_count": 219,
   "metadata": {},
   "outputs": [],
   "source": [
    "# Fitting softmax model\n",
    "result = softmax.fit_softmax(eta, n_iter)"
   ]
  },
  {
   "cell_type": "code",
   "execution_count": 220,
   "metadata": {},
   "outputs": [],
   "source": [
    "# Predictions\n",
    "predictions_60 = softmax.predict(x_test_60)\n",
    "\n",
    "# Prediction Accuracy\n",
    "soft_acc_60 = softmax.accuracy(y_test_60, predictions_60)"
   ]
  },
  {
   "cell_type": "code",
   "execution_count": 221,
   "metadata": {},
   "outputs": [
    {
     "data": {
      "text/plain": [
       "39.91935483870967"
      ]
     },
     "execution_count": 221,
     "metadata": {},
     "output_type": "execute_result"
    }
   ],
   "source": [
    "soft_acc_60"
   ]
  },
  {
   "cell_type": "markdown",
   "metadata": {},
   "source": [
    "The third chunck of the data which represent 60% of it. The remark that we can do here is that:\n",
    "\n",
    "* Here Naive Bayes model slightly perform less than the one in the 30% test. It achieves here the same performance as Softmax. This situation maybe is due to the fact that Softmax is getting enough data to learn.\n",
    "* GDA outperformed all of them. It might be explain also due to enough data his getting.\n",
    "\n",
    "Pictorically as in the figure below \n",
    "    - "
   ]
  },
  {
   "cell_type": "code",
   "execution_count": 222,
   "metadata": {},
   "outputs": [],
   "source": [
    "accuracies_60 = [gda_acc_60, nb_acc_60, soft_acc_60]"
   ]
  },
  {
   "cell_type": "code",
   "execution_count": 223,
   "metadata": {},
   "outputs": [
    {
     "data": {
      "image/png": "[encoded data removed]",
      "text/plain": [
       "<Figure size 432x288 with 1 Axes>"
      ]
     },
     "metadata": {
      "needs_background": "light"
     },
     "output_type": "display_data"
    }
   ],
   "source": [
    "fig = plt.figure()\n",
    "ax = fig.add_axes([0,0,1,1])\n",
    "ax.bar(models, accuracies_60, color = 'green')\n",
    "plt.ylabel('Accuracy')\n",
    "plt.xlabel('Models')\n",
    "plt.title('Models Performance on 60% of the data')\n",
    "plt.show()"
   ]
  },
  {
   "cell_type": "markdown",
   "metadata": {},
   "source": [
    "# Test on 100 percent of the data"
   ]
  },
  {
   "cell_type": "code",
   "execution_count": 224,
   "metadata": {},
   "outputs": [],
   "source": [
    "n100 = int(len(train_vec) * 100/100)\n",
    "x_train_100, x_test_100, y_train_100, y_test_100 = split(train_vec, y, n100)\n",
    "\n",
    "x_11, x_22, y_11, y_22 = split(dd1, y, n100)"
   ]
  },
  {
   "cell_type": "markdown",
   "metadata": {},
   "source": [
    "### GDA"
   ]
  },
  {
   "cell_type": "code",
   "execution_count": 225,
   "metadata": {},
   "outputs": [],
   "source": [
    "gda = GDA(x_train_100, y_train_100)\n",
    "mu = gda.get_mu()\n",
    "mu = gda.get_mu()\n",
    "sigma = gda.get_sigma()\n",
    "phi = gda.get_phi()\n",
    "pred_gda = gda.predict(x_test_100, mu, sigma, phi)\n",
    "gda_acc_100 = gda.accuracy(pred_gda, y_test_100)"
   ]
  },
  {
   "cell_type": "code",
   "execution_count": 226,
   "metadata": {},
   "outputs": [
    {
     "data": {
      "text/plain": [
       "44.06779661016949"
      ]
     },
     "execution_count": 226,
     "metadata": {},
     "output_type": "execute_result"
    }
   ],
   "source": [
    "gda_acc_100"
   ]
  },
  {
   "cell_type": "markdown",
   "metadata": {},
   "source": [
    "### Naive Bayes"
   ]
  },
  {
   "cell_type": "code",
   "execution_count": 227,
   "metadata": {},
   "outputs": [],
   "source": [
    "nb.train(x_11, y_11)\n",
    "pred_nb_100 = nb.get_prediction(x_22)\n",
    "nb_acc_100 = nb.accuracy(y_22, pred_nb_100)"
   ]
  },
  {
   "cell_type": "code",
   "execution_count": 228,
   "metadata": {},
   "outputs": [
    {
     "data": {
      "text/plain": [
       "40.03228410008071"
      ]
     },
     "execution_count": 228,
     "metadata": {},
     "output_type": "execute_result"
    }
   ],
   "source": [
    "nb_acc_100"
   ]
  },
  {
   "cell_type": "markdown",
   "metadata": {},
   "source": [
    "### Softmax Regression"
   ]
  },
  {
   "cell_type": "code",
   "execution_count": 229,
   "metadata": {},
   "outputs": [],
   "source": [
    "softmax = SoftMax(x_train_100, y_train_100)"
   ]
  },
  {
   "cell_type": "code",
   "execution_count": 230,
   "metadata": {},
   "outputs": [],
   "source": [
    "# Fitting softmax model\n",
    "result = softmax.fit_softmax(eta, n_iter)"
   ]
  },
  {
   "cell_type": "code",
   "execution_count": 231,
   "metadata": {},
   "outputs": [],
   "source": [
    "# Predictions\n",
    "predictions_100 = softmax.predict(x_test_100)\n",
    "\n",
    "# Prediction Accuracy\n",
    "soft_acc_100 = softmax.accuracy(y_test_100, predictions_100)"
   ]
  },
  {
   "cell_type": "code",
   "execution_count": 232,
   "metadata": {},
   "outputs": [
    {
     "data": {
      "text/plain": [
       "40.11299435028249"
      ]
     },
     "execution_count": 232,
     "metadata": {},
     "output_type": "execute_result"
    }
   ],
   "source": [
    "soft_acc_100"
   ]
  },
  {
   "cell_type": "markdown",
   "metadata": {},
   "source": [
    "For the last chunck of the data which represent 100% of it.\n",
    "\n",
    "\n",
    "* GDA outperformed all of them once again, followed by Softmax. Naive Bayes performed less than them, this can explain by the fact that when data size increases this model tends to underperform.\n",
    "\n",
    "Pictorically as in the figure below \n",
    "    - "
   ]
  },
  {
   "cell_type": "code",
   "execution_count": 233,
   "metadata": {},
   "outputs": [],
   "source": [
    "accuracies_100 = [gda_acc_100, nb_acc_100, soft_acc_100]"
   ]
  },
  {
   "cell_type": "code",
   "execution_count": 234,
   "metadata": {},
   "outputs": [
    {
     "data": {
      "image/png": "[encoded data removed]",
      "text/plain": [
       "<Figure size 432x288 with 1 Axes>"
      ]
     },
     "metadata": {
      "needs_background": "light"
     },
     "output_type": "display_data"
    }
   ],
   "source": [
    "fig = plt.figure()\n",
    "ax = fig.add_axes([0,0,1,1])\n",
    "ax.bar(models, accuracies_100, color = 'green')\n",
    "plt.ylabel('Accuracy')\n",
    "plt.xlabel('Models')\n",
    "plt.title('Models Performance on 100% of the data')\n",
    "plt.show()"
   ]
  },
  {
   "cell_type": "markdown",
   "metadata": {},
   "source": [
    "## Final think"
   ]
  },
  {
   "cell_type": "markdown",
   "metadata": {},
   "source": [
    "We implemented 3  models from scratch to classify the rating on drug reviews to see which model while perform best. Our models strugle to make prediction of the multiclasses. In general, I can say that the best performance was by GDA > Softmax Regression > Naive Bayes."
   ]
  }
 ],
 "metadata": {
  "kernelspec": {
   "display_name": "Python 3",
   "language": "python",
   "name": "python3"
  },
  "language_info": {
   "codemirror_mode": {
    "name": "ipython",
    "version": 3
   },
   "file_extension": ".py",
   "mimetype": "text/x-python",
   "name": "python",
   "nbconvert_exporter": "python",
   "pygments_lexer": "ipython3",
   "version": "3.7.3"
  }
 },
 "nbformat": 4,
 "nbformat_minor": 4
}
