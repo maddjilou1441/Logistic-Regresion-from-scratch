{
 "cells": [
  {
   "cell_type": "code",
   "execution_count": 20,
   "metadata": {},
   "outputs": [],
   "source": [
    "import pandas as pd\n",
    "import numpy as np\n",
    "import seaborn as sn\n",
    "import random as rd\n",
    "import matplotlib.pyplot as plt\n",
    "from numpy.linalg import norm"
   ]
  },
  {
   "cell_type": "markdown",
   "metadata": {},
   "source": [
    "# Data exploration"
   ]
  },
  {
   "cell_type": "code",
   "execution_count": 21,
   "metadata": {},
   "outputs": [
    {
     "data": {
      "image/png": "[encoded data removed]",
      "text/plain": [
       "<Figure size 576x432 with 1 Axes>"
      ]
     },
     "metadata": {
      "needs_background": "light"
     },
     "output_type": "display_data"
    }
   ],
   "source": [
    "X = 2 * np.random.rand(500, 1)\n",
    "y = 3 + 4 * X + np.random.randn(500, 1)\n",
    "\n",
    "fig = plt.figure(figsize=(8,6))\n",
    "plt.scatter(X, y)\n",
    "plt.title(\"Dataset\")\n",
    "plt.xlabel(\"First feature\")\n",
    "plt.ylabel(\"Second feature\")\n",
    "plt.show( )"
   ]
  },
  {
   "cell_type": "code",
   "execution_count": 22,
   "metadata": {},
   "outputs": [
    {
     "data": {
      "text/plain": [
       "array([[5.85849525],\n",
       "       [6.31358796],\n",
       "       [7.42128112],\n",
       "       [5.47088988]])"
      ]
     },
     "execution_count": 22,
     "metadata": {},
     "output_type": "execute_result"
    }
   ],
   "source": [
    "y[: 4]"
   ]
  },
  {
   "cell_type": "code",
   "execution_count": 23,
   "metadata": {},
   "outputs": [
    {
     "data": {
      "text/plain": [
       "array([11.8183449])"
      ]
     },
     "execution_count": 23,
     "metadata": {},
     "output_type": "execute_result"
    }
   ],
   "source": [
    "y[4]"
   ]
  },
  {
   "cell_type": "code",
   "execution_count": 24,
   "metadata": {},
   "outputs": [
    {
     "data": {
      "text/plain": [
       "(500, 1)"
      ]
     },
     "execution_count": 24,
     "metadata": {},
     "output_type": "execute_result"
    }
   ],
   "source": [
    "X.shape"
   ]
  },
  {
   "cell_type": "code",
   "execution_count": 25,
   "metadata": {},
   "outputs": [
    {
     "data": {
      "text/plain": [
       "(500, 1)"
      ]
     },
     "execution_count": 25,
     "metadata": {},
     "output_type": "execute_result"
    }
   ],
   "source": [
    "y.shape"
   ]
  },
  {
   "cell_type": "markdown",
   "metadata": {},
   "source": [
    "# Spliting the data into a train and test set"
   ]
  },
  {
   "cell_type": "code",
   "execution_count": 26,
   "metadata": {},
   "outputs": [],
   "source": [
    "from sklearn.model_selection import train_test_split"
   ]
  },
  {
   "cell_type": "code",
   "execution_count": 27,
   "metadata": {},
   "outputs": [
    {
     "name": "stdout",
     "output_type": "stream",
     "text": [
      "Shape X_train: (375, 1)\n",
      "Shape y_train: (375, 1)\n",
      "Shape X_test: (125, 1)\n",
      "Shape y_test: (125, 1)\n"
     ]
    }
   ],
   "source": [
    "X_train, X_test, y_train, y_test = train_test_split(X, y)\n",
    "\n",
    "print('Shape X_train: {}' .format(X_train.shape))\n",
    "print('Shape y_train: {}'.format(y_train.shape))\n",
    "print('Shape X_test: {}'.format(X_test.shape))\n",
    "print('Shape y_test: {}'.format(y_test.shape))"
   ]
  },
  {
   "cell_type": "code",
   "execution_count": 28,
   "metadata": {},
   "outputs": [],
   "source": [
    "class LinearRegression:\n",
    "    \n",
    "    def __init__(self):\n",
    "        pass\n",
    "    # Cost function\n",
    "    def cost_function(self, y_predict, y_true) :\n",
    "        \n",
    "        cost= (1/ y_true.shape[0])* np.sum((y_predict - y_true)**2)\n",
    "        \n",
    "        return cost\n",
    "    \n",
    "    # Learning algoritm\n",
    "    def learning_algo(self, x, y, learning_rate, n_iterations) :\n",
    "        \n",
    "        m_samples, n_features = x.shape\n",
    "        \n",
    "        # Initialization\n",
    "        self.theta = np.zeros((n_features,1))\n",
    "        self.bias=0\n",
    "        cost_final = np.zeros(n_iterations)\n",
    "        \n",
    "        # For finding the argmin of the cost function\n",
    "\n",
    "        for i in range(n_iterations):\n",
    "\n",
    "            # Hypothesis\n",
    "            y_predict = np.dot(x, self.theta) + self.bias\n",
    "\n",
    "            cost = self.cost_function(y_predict, y)\n",
    "            cost_final[i] = cost\n",
    "\n",
    "            # Gradient with respect to theta\n",
    "            d_theta = (2/m_samples)* (np.dot(x.T,( y - y_predict)))\n",
    "\n",
    "            #print(d_theta.shape)\n",
    "            # Gradient with respect to theta\n",
    "            d_bias = (2/m_samples)* np.sum( y - y_predict)\n",
    "\n",
    "            # For updating theta and b\n",
    "            self.theta = self.theta + learning_rate * d_theta\n",
    "            self.bias  = self.bias  + learning_rate * d_bias\n",
    "\n",
    "            \n",
    "        \n",
    "        return self.theta, self.bias, cost_final\n",
    "    \n",
    "    \n",
    "    # Prediction step on the algorithm\n",
    "    def predict (self, x):\n",
    "        \n",
    "        y_predict = np.dot(x, self.theta) + self.bias\n",
    "        \n",
    "        return y_predict     "
   ]
  },
  {
   "cell_type": "code",
   "execution_count": 29,
   "metadata": {},
   "outputs": [],
   "source": [
    "linear_reg = LinearRegression()"
   ]
  },
  {
   "cell_type": "code",
   "execution_count": 30,
   "metadata": {},
   "outputs": [],
   "source": [
    "theta, bias, costs = linear_reg.learning_algo(X_train, y_train, learning_rate = 0.01, n_iterations = 400)"
   ]
  },
  {
   "cell_type": "code",
   "execution_count": 31,
   "metadata": {},
   "outputs": [
    {
     "data": {
      "text/plain": [
       "(1, 1)"
      ]
     },
     "execution_count": 31,
     "metadata": {},
     "output_type": "execute_result"
    }
   ],
   "source": [
    "theta.shape"
   ]
  },
  {
   "cell_type": "code",
   "execution_count": 32,
   "metadata": {},
   "outputs": [
    {
     "data": {
      "text/plain": [
       "array([56.04043593, 51.35988038, 47.07669158, 43.15713387, 39.57033571])"
      ]
     },
     "execution_count": 32,
     "metadata": {},
     "output_type": "execute_result"
    }
   ],
   "source": [
    "costs[:5]"
   ]
  },
  {
   "cell_type": "code",
   "execution_count": 33,
   "metadata": {},
   "outputs": [
    {
     "data": {
      "image/png": "[encoded data removed]",
      "text/plain": [
       "<Figure size 576x432 with 1 Axes>"
      ]
     },
     "metadata": {
      "needs_background": "light"
     },
     "output_type": "display_data"
    }
   ],
   "source": [
    "fig = plt.figure(figsize=(8,6))\n",
    "plt.plot(np.arange(400), costs)\n",
    "plt.title(\"Development of cost during training\")\n",
    "plt.xlabel(\"Number of iterations\")\n",
    "plt.ylabel(\"Cost\")\n",
    "plt.show()"
   ]
  },
  {
   "cell_type": "code",
   "execution_count": 34,
   "metadata": {},
   "outputs": [
    {
     "name": "stdout",
     "output_type": "stream",
     "text": [
      "Error on training set: 0.9032\n"
     ]
    }
   ],
   "source": [
    "m_samples = X_train.shape[0]\n",
    "\n",
    "\n",
    "y_predict_train = linear_reg.predict(X_train)\n",
    "\n",
    "error_training =  (1 / m_samples) * np.sum((y_predict_train - y_train) ** 2)\n",
    "print(f\"Error on training set: {np.round(error_training, 4)}\")"
   ]
  },
  {
   "cell_type": "markdown",
   "metadata": {},
   "source": [
    "# Testing step of the algorithm"
   ]
  },
  {
   "cell_type": "code",
   "execution_count": 35,
   "metadata": {},
   "outputs": [],
   "source": [
    "theta, bias, costs = linear_reg.learning_algo(X_test, y_test, learning_rate = 0.01, n_iterations = 400)"
   ]
  },
  {
   "cell_type": "code",
   "execution_count": 36,
   "metadata": {},
   "outputs": [
    {
     "data": {
      "image/png": "[encoded data removed]",
      "text/plain": [
       "<Figure size 576x432 with 1 Axes>"
      ]
     },
     "metadata": {
      "needs_background": "light"
     },
     "output_type": "display_data"
    }
   ],
   "source": [
    "fig = plt.figure(figsize=(8,6))\n",
    "plt.plot(np.arange(400), costs)\n",
    "plt.title(\"Development of cost during testing\")\n",
    "plt.xlabel(\"Number of iterations\")\n",
    "plt.ylabel(\"Cost\")\n",
    "plt.show()"
   ]
  },
  {
   "cell_type": "code",
   "execution_count": 37,
   "metadata": {},
   "outputs": [
    {
     "name": "stdout",
     "output_type": "stream",
     "text": [
      "Error on testing set: 1.0948\n"
     ]
    }
   ],
   "source": [
    "m_samples_test = X_test.shape[0]\n",
    "\n",
    "y_predict_test = linear_reg.predict(X_test)\n",
    "\n",
    "error_testing =  (1 / m_samples_test) * np.sum((y_predict_test - y_test) ** 2)\n",
    "print(f\"Error on testing set: {np.round(error_testing, 4)}\")"
   ]
  },
  {
   "cell_type": "markdown",
   "metadata": {},
   "source": [
    "# Plotting of the Hypothesis"
   ]
  },
  {
   "cell_type": "code",
   "execution_count": 38,
   "metadata": {},
   "outputs": [
    {
     "data": {
      "image/png": "[encoded data removed]",
      "text/plain": [
       "<Figure size 576x432 with 1 Axes>"
      ]
     },
     "metadata": {
      "needs_background": "light"
     },
     "output_type": "display_data"
    }
   ],
   "source": [
    "fig = plt.figure(figsize=(8,6))\n",
    "plt.title(\"Dataset in blue, predictions for test set in green\")\n",
    "plt.scatter(X_test, y_test)\n",
    "y = [bias + np.dot(x, theta) for x in X_test]\n",
    "plt.plot(X_test, y, color = 'green')\n",
    "#plt.scatter(X_test, y_predict_test)\n",
    "plt.xlabel(\"First feature\")\n",
    "plt.ylabel(\"Second feature\")\n",
    "plt.show()"
   ]
  }
 ],
 "metadata": {
  "kernelspec": {
   "display_name": "Python 3",
   "language": "python",
   "name": "python3"
  },
  "language_info": {
   "codemirror_mode": {
    "name": "ipython",
    "version": 3
   },
   "file_extension": ".py",
   "mimetype": "text/x-python",
   "name": "python",
   "nbconvert_exporter": "python",
   "pygments_lexer": "ipython3",
   "version": "3.7.3"
  }
 },
 "nbformat": 4,
 "nbformat_minor": 4
}
