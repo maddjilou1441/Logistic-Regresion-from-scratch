{
 "cells": [
  {
   "cell_type": "code",
   "execution_count": 44,
   "metadata": {},
   "outputs": [],
   "source": [
    "import pandas as pd\n",
    "import numpy as np\n",
    "import seaborn as sn\n",
    "import random as rd\n",
    "import matplotlib.pyplot as plt\n",
    "from numpy.linalg import norm"
   ]
  },
  {
   "cell_type": "markdown",
   "metadata": {},
   "source": [
    "# Data exploration "
   ]
  },
  {
   "cell_type": "code",
   "execution_count": 45,
   "metadata": {},
   "outputs": [],
   "source": [
    "X = pd.read_csv('X_train.csv')"
   ]
  },
  {
   "cell_type": "code",
   "execution_count": 46,
   "metadata": {},
   "outputs": [
    {
     "data": {
      "text/html": [
       "<div>\n",
       "<style scoped>\n",
       "    .dataframe tbody tr th:only-of-type {\n",
       "        vertical-align: middle;\n",
       "    }\n",
       "\n",
       "    .dataframe tbody tr th {\n",
       "        vertical-align: top;\n",
       "    }\n",
       "\n",
       "    .dataframe thead th {\n",
       "        text-align: right;\n",
       "    }\n",
       "</style>\n",
       "<table border=\"1\" class=\"dataframe\">\n",
       "  <thead>\n",
       "    <tr style=\"text-align: right;\">\n",
       "      <th></th>\n",
       "      <th>x1</th>\n",
       "      <th>x2</th>\n",
       "      <th>x3</th>\n",
       "      <th>x4</th>\n",
       "      <th>x5</th>\n",
       "      <th>x6</th>\n",
       "    </tr>\n",
       "  </thead>\n",
       "  <tbody>\n",
       "    <tr>\n",
       "      <th>0</th>\n",
       "      <td>1.207981</td>\n",
       "      <td>0.084499</td>\n",
       "      <td>1.459217</td>\n",
       "      <td>0.007140</td>\n",
       "      <td>0.102074</td>\n",
       "      <td>1.0</td>\n",
       "    </tr>\n",
       "    <tr>\n",
       "      <th>1</th>\n",
       "      <td>0.761218</td>\n",
       "      <td>0.725109</td>\n",
       "      <td>0.579453</td>\n",
       "      <td>0.525783</td>\n",
       "      <td>0.551966</td>\n",
       "      <td>1.0</td>\n",
       "    </tr>\n",
       "    <tr>\n",
       "      <th>2</th>\n",
       "      <td>0.552562</td>\n",
       "      <td>0.519373</td>\n",
       "      <td>0.305325</td>\n",
       "      <td>0.269748</td>\n",
       "      <td>0.286986</td>\n",
       "      <td>1.0</td>\n",
       "    </tr>\n",
       "    <tr>\n",
       "      <th>3</th>\n",
       "      <td>-0.582708</td>\n",
       "      <td>0.267048</td>\n",
       "      <td>0.339548</td>\n",
       "      <td>0.071315</td>\n",
       "      <td>-0.155611</td>\n",
       "      <td>1.0</td>\n",
       "    </tr>\n",
       "    <tr>\n",
       "      <th>4</th>\n",
       "      <td>2.102288</td>\n",
       "      <td>1.633871</td>\n",
       "      <td>4.419616</td>\n",
       "      <td>2.669534</td>\n",
       "      <td>3.434868</td>\n",
       "      <td>1.0</td>\n",
       "    </tr>\n",
       "  </tbody>\n",
       "</table>\n",
       "</div>"
      ],
      "text/plain": [
       "         x1        x2        x3        x4        x5   x6\n",
       "0  1.207981  0.084499  1.459217  0.007140  0.102074  1.0\n",
       "1  0.761218  0.725109  0.579453  0.525783  0.551966  1.0\n",
       "2  0.552562  0.519373  0.305325  0.269748  0.286986  1.0\n",
       "3 -0.582708  0.267048  0.339548  0.071315 -0.155611  1.0\n",
       "4  2.102288  1.633871  4.419616  2.669534  3.434868  1.0"
      ]
     },
     "execution_count": 46,
     "metadata": {},
     "output_type": "execute_result"
    }
   ],
   "source": [
    "X.head()"
   ]
  },
  {
   "cell_type": "code",
   "execution_count": 47,
   "metadata": {},
   "outputs": [
    {
     "name": "stdout",
     "output_type": "stream",
     "text": [
      "<class 'pandas.core.frame.DataFrame'>\n",
      "RangeIndex: 826 entries, 0 to 825\n",
      "Data columns (total 6 columns):\n",
      "x1    826 non-null float64\n",
      "x2    826 non-null float64\n",
      "x3    826 non-null float64\n",
      "x4    826 non-null float64\n",
      "x5    826 non-null float64\n",
      "x6    826 non-null float64\n",
      "dtypes: float64(6)\n",
      "memory usage: 38.8 KB\n"
     ]
    }
   ],
   "source": [
    "X.info()"
   ]
  },
  {
   "cell_type": "code",
   "execution_count": 48,
   "metadata": {},
   "outputs": [],
   "source": [
    "y = pd.read_csv('y_train.csv')"
   ]
  },
  {
   "cell_type": "code",
   "execution_count": 49,
   "metadata": {},
   "outputs": [
    {
     "data": {
      "text/html": [
       "<div>\n",
       "<style scoped>\n",
       "    .dataframe tbody tr th:only-of-type {\n",
       "        vertical-align: middle;\n",
       "    }\n",
       "\n",
       "    .dataframe tbody tr th {\n",
       "        vertical-align: top;\n",
       "    }\n",
       "\n",
       "    .dataframe thead th {\n",
       "        text-align: right;\n",
       "    }\n",
       "</style>\n",
       "<table border=\"1\" class=\"dataframe\">\n",
       "  <thead>\n",
       "    <tr style=\"text-align: right;\">\n",
       "      <th></th>\n",
       "      <th>y</th>\n",
       "    </tr>\n",
       "  </thead>\n",
       "  <tbody>\n",
       "    <tr>\n",
       "      <th>0</th>\n",
       "      <td>1</td>\n",
       "    </tr>\n",
       "    <tr>\n",
       "      <th>1</th>\n",
       "      <td>1</td>\n",
       "    </tr>\n",
       "    <tr>\n",
       "      <th>2</th>\n",
       "      <td>1</td>\n",
       "    </tr>\n",
       "    <tr>\n",
       "      <th>3</th>\n",
       "      <td>1</td>\n",
       "    </tr>\n",
       "  </tbody>\n",
       "</table>\n",
       "</div>"
      ],
      "text/plain": [
       "   y\n",
       "0  1\n",
       "1  1\n",
       "2  1\n",
       "3  1"
      ]
     },
     "execution_count": 49,
     "metadata": {},
     "output_type": "execute_result"
    }
   ],
   "source": [
    "y[:4]"
   ]
  },
  {
   "cell_type": "code",
   "execution_count": 50,
   "metadata": {},
   "outputs": [
    {
     "name": "stdout",
     "output_type": "stream",
     "text": [
      "<class 'pandas.core.frame.DataFrame'>\n",
      "RangeIndex: 826 entries, 0 to 825\n",
      "Data columns (total 1 columns):\n",
      "y    826 non-null int64\n",
      "dtypes: int64(1)\n",
      "memory usage: 6.5 KB\n"
     ]
    }
   ],
   "source": [
    "y.info()"
   ]
  },
  {
   "cell_type": "markdown",
   "metadata": {},
   "source": [
    "# To convert the target data frame to an array "
   ]
  },
  {
   "cell_type": "code",
   "execution_count": 51,
   "metadata": {},
   "outputs": [],
   "source": [
    "y=y.values"
   ]
  },
  {
   "cell_type": "code",
   "execution_count": 52,
   "metadata": {},
   "outputs": [
    {
     "data": {
      "text/plain": [
       "array([[1],\n",
       "       [1],\n",
       "       [1],\n",
       "       [1]])"
      ]
     },
     "execution_count": 52,
     "metadata": {},
     "output_type": "execute_result"
    }
   ],
   "source": [
    "y[:4]"
   ]
  },
  {
   "cell_type": "code",
   "execution_count": 53,
   "metadata": {},
   "outputs": [],
   "source": [
    "# fig = plt.figure(figsize=(8,6))\n",
    "# plt.scatter(X[:,0], X[:,1], c=y)\n",
    "# plt.show()"
   ]
  },
  {
   "cell_type": "markdown",
   "metadata": {},
   "source": [
    "# Splitting the data set into train data and test data set"
   ]
  },
  {
   "cell_type": "code",
   "execution_count": 54,
   "metadata": {},
   "outputs": [],
   "source": [
    "from sklearn.model_selection import train_test_split"
   ]
  },
  {
   "cell_type": "code",
   "execution_count": 55,
   "metadata": {},
   "outputs": [],
   "source": [
    "X_train, X_test, y_train, y_test = train_test_split(X, y,test_size=0.3, random_state=42)"
   ]
  },
  {
   "cell_type": "code",
   "execution_count": 56,
   "metadata": {},
   "outputs": [
    {
     "data": {
      "text/plain": [
       "(578, 6)"
      ]
     },
     "execution_count": 56,
     "metadata": {},
     "output_type": "execute_result"
    }
   ],
   "source": [
    "X_train.shape"
   ]
  },
  {
   "cell_type": "markdown",
   "metadata": {},
   "source": [
    "# Logistic regression model"
   ]
  },
  {
   "cell_type": "code",
   "execution_count": 57,
   "metadata": {},
   "outputs": [],
   "source": [
    "class LogisticRegression ():\n",
    "    \n",
    "    def __init__(self) :\n",
    "        \n",
    "        pass\n",
    "    \n",
    "    def sigmoid(self , z):\n",
    "        \n",
    "        self.sigmo= 1/(1+np.exp(-z))\n",
    "        \n",
    "        return self.sigmo\n",
    "    \n",
    "    def cost_function (self, x, y, y_true):\n",
    "       \n",
    "\n",
    "        self.cost = -(1/ x.shape[0]) * np.sum(y_true * np.log(y) + (1-y_true) * np.log(1- y))\n",
    "        \n",
    "        return self.cost\n",
    "    \n",
    "    def learning_algorithm(self, x, y_true, learning_rate, n_iteration) :\n",
    "        \n",
    "        m_samples, n_features = x.shape\n",
    "        self.theta = np.zeros((n_features , 1))\n",
    "        self.bias = 0\n",
    "        cost_final= np.zeros(n_iteration)\n",
    "        \n",
    "        for i in range(n_iteration):\n",
    "            \n",
    "            y_hat = self.sigmoid(np.dot(x, self.theta) + self.bias)\n",
    "\n",
    "            cost = self.cost_function(x, y_hat, y_true)\n",
    "            \n",
    "            d_theta = (1 / m_samples) * np.dot(x.T, (y_hat - y_true))\n",
    "            d_bias = (1 / m_samples) * np.sum(y_hat - y_true)\n",
    "\n",
    "            self.theta = self.theta - learning_rate * d_theta \n",
    "            self.bias = self.bias - learning_rate * d_bias\n",
    "        \n",
    "            cost_final[i] = cost\n",
    "            \n",
    "            \n",
    "        return self.theta, self.bias, cost_final\n",
    "        \n",
    "        \n",
    "    def prediction (self, X):\n",
    "        \n",
    "        y_hat = self.sigmoid ( np.dot(X, self.theta) + self.bias)\n",
    "        \n",
    "        y_predict_labels = [1 if elem > 0.5 else 0 for elem in y_hat]\n",
    "        \n",
    "        \n",
    "        return y_predict_labels"
   ]
  },
  {
   "cell_type": "code",
   "execution_count": 58,
   "metadata": {},
   "outputs": [],
   "source": [
    "logistic_reg = LogisticRegression()"
   ]
  },
  {
   "cell_type": "markdown",
   "metadata": {},
   "source": [
    "here we show the curve of the cost function"
   ]
  },
  {
   "cell_type": "code",
   "execution_count": 59,
   "metadata": {},
   "outputs": [
    {
     "data": {
      "image/png": "[encoded data removed]",
      "text/plain": [
       "<Figure size 576x432 with 1 Axes>"
      ]
     },
     "metadata": {
      "needs_background": "light"
     },
     "output_type": "display_data"
    }
   ],
   "source": [
    "logistic_reg = LogisticRegression()\n",
    "theta, bias, costs = logistic_reg.learning_algorithm(X_train, y_train, learning_rate=0.1, n_iteration=1000)\n",
    "\n",
    "fig = plt.figure(figsize=(8,6))\n",
    "plt.plot(np.arange (1000), costs)\n",
    "plt.title(\"Development of cost over training\")\n",
    "plt.xlabel(\"Number of iterations\")\n",
    "plt.ylabel(\"Cost\")\n",
    "plt.show()"
   ]
  },
  {
   "cell_type": "markdown",
   "metadata": {},
   "source": [
    "We can check that this curve looks like decreasing but it is stationnary somewhere when the number of iteration becomes very large. That's the convergence of the cost function."
   ]
  },
  {
   "cell_type": "code",
   "execution_count": 60,
   "metadata": {},
   "outputs": [
    {
     "name": "stdout",
     "output_type": "stream",
     "text": [
      "the accuracy is 89.92 %\n"
     ]
    }
   ],
   "source": [
    "gr_descent=logistic_reg.learning_algorithm(X_train, y_train, learning_rate=0.1, n_iteration=1000)\n",
    "\n",
    "\n",
    "y_predict=logistic_reg.prediction(X_test)\n",
    "\n",
    "accuracy=0\n",
    "for i in range(len(y_predict)):\n",
    "    if y_predict[i]==y_test[i]:\n",
    "        accuracy+= 1\n",
    "    \n",
    "accuracy/= len(y_predict)\n",
    "print('the accuracy is {} %'.format(np.round(accuracy*100, 2)))"
   ]
  },
  {
   "cell_type": "code",
   "execution_count": null,
   "metadata": {},
   "outputs": [],
   "source": []
  },
  {
   "cell_type": "code",
   "execution_count": null,
   "metadata": {},
   "outputs": [],
   "source": []
  }
 ],
 "metadata": {
  "kernelspec": {
   "display_name": "Python 3",
   "language": "python",
   "name": "python3"
  },
  "language_info": {
   "codemirror_mode": {
    "name": "ipython",
    "version": 3
   },
   "file_extension": ".py",
   "mimetype": "text/x-python",
   "name": "python",
   "nbconvert_exporter": "python",
   "pygments_lexer": "ipython3",
   "version": "3.7.3"
  }
 },
 "nbformat": 4,
 "nbformat_minor": 4
}
